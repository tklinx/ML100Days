{
 "cells": [
  {
   "cell_type": "code",
   "execution_count": 11,
   "metadata": {},
   "outputs": [],
   "source": [
    "import numpy as np"
   ]
  },
  {
   "cell_type": "code",
   "execution_count": 12,
   "metadata": {},
   "outputs": [],
   "source": [
    "english_score = np.array([55,89,76,65,48,70])\n",
    "math_score = np.array([60,85,60,68,np.nan,60])\n",
    "chinese_score = np.array([65,90,82,72,66,77])"
   ]
  },
  {
   "cell_type": "code",
   "execution_count": 13,
   "metadata": {},
   "outputs": [
    {
     "name": "stdout",
     "output_type": "stream",
     "text": [
      "Avg. English =  67.16666666666667 \n",
      "Avg. Math =  66.6 \n",
      "Avg. Chinese =  75.33333333333333\n",
      "\n",
      "Max. English =  89.0 \n",
      "Max. Math =  85.0 \n",
      "Max. Chinese =  90.0\n",
      "\n",
      "Min. English =  48.0 \n",
      "Min. Math =  60.0 \n",
      "Min. Chinese =  65.0\n",
      "\n",
      "Std. English =  13.433995020924426 \n",
      "Std. Math =  9.707728879609279 \n",
      "Std. Chinese =  8.825468196582484\n"
     ]
    }
   ],
   "source": [
    "#Quiz(1)\n",
    "total_score = [english_score, math_score, chinese_score]\n",
    "\n",
    "total_avg = np.nanmean(total_score, axis = 1)\n",
    "print('Avg. English = ', total_avg[0], '\\nAvg. Math = ', total_avg[1], '\\nAvg. Chinese = ', total_avg[2])\n",
    "\n",
    "total_max = np.nanmax(total_score, axis = 1)\n",
    "print('\\nMax. English = ', total_max[0], '\\nMax. Math = ', total_max[1], '\\nMax. Chinese = ', total_max[2])\n",
    "\n",
    "total_min = np.nanmin(total_score, axis = 1)\n",
    "print('\\nMin. English = ', total_min[0], '\\nMin. Math = ', total_min[1], '\\nMin. Chinese = ', total_min[2])\n",
    "\n",
    "total_std = np.nanstd(total_score, axis = 1)\n",
    "print('\\nStd. English = ', total_std[0], '\\nStd. Math = ', total_std[1], '\\nStd. Chinese = ', total_std[2])"
   ]
  },
  {
   "cell_type": "code",
   "execution_count": 14,
   "metadata": {},
   "outputs": [
    {
     "name": "stdout",
     "output_type": "stream",
     "text": [
      "Avg. English =  67.16666666666667 \n",
      "Avg. Math =  64.66666666666667 \n",
      "Avg. Chinese =  75.33333333333333\n",
      "\n",
      "Max. English =  89 \n",
      "Max. Math =  85 \n",
      "Max. Chinese =  90\n",
      "\n",
      "Min. English =  48 \n",
      "Min. Math =  55 \n",
      "Min. Chinese =  65\n",
      "\n",
      "Std. English =  13.433995020924426 \n",
      "Std. Math =  9.860132971832694 \n",
      "Std. Chinese =  8.825468196582484\n"
     ]
    }
   ],
   "source": [
    "#Quiz(2)\n",
    "math_score2 = np.array([60,85,60,68,55,60])\n",
    "total_score = [english_score, math_score2, chinese_score]\n",
    "\n",
    "total_avg = np.nanmean(total_score, axis = 1)\n",
    "print('Avg. English = ', total_avg[0], '\\nAvg. Math = ', total_avg[1], '\\nAvg. Chinese = ', total_avg[2])\n",
    "\n",
    "total_max = np.nanmax(total_score, axis = 1)\n",
    "print('\\nMax. English = ', total_max[0], '\\nMax. Math = ', total_max[1], '\\nMax. Chinese = ', total_max[2])\n",
    "\n",
    "total_min = np.nanmin(total_score, axis = 1)\n",
    "print('\\nMin. English = ', total_min[0], '\\nMin. Math = ', total_min[1], '\\nMin. Chinese = ', total_min[2])\n",
    "\n",
    "total_std = np.nanstd(total_score, axis = 1)\n",
    "print('\\nStd. English = ', total_std[0], '\\nStd. Math = ', total_std[1], '\\nStd. Chinese = ', total_std[2])"
   ]
  },
  {
   "cell_type": "code",
   "execution_count": 15,
   "metadata": {},
   "outputs": [
    {
     "name": "stdout",
     "output_type": "stream",
     "text": [
      "國數相關係數:  [[1.         0.74056803]\n",
      " [0.74056803 1.        ]]\n",
      "國英相關係數:  [[1.         0.97792828]\n",
      " [0.97792828 1.        ]]\n"
     ]
    }
   ],
   "source": [
    "#Quiz(3)\n",
    "print('國數相關係數: ', np.corrcoef(chinese_score, math_score2))\n",
    "print('國英相關係數: ', np.corrcoef(chinese_score, english_score))\n",
    "#np.maximum(np.corrcoef(chinese_score, math_score2), np.corrcoef(chinese_score, english_score))\\\n"
   ]
  }
 ],
 "metadata": {
  "kernelspec": {
   "display_name": "Python 3",
   "language": "python",
   "name": "python3"
  },
  "language_info": {
   "codemirror_mode": {
    "name": "ipython",
    "version": 3
   },
   "file_extension": ".py",
   "mimetype": "text/x-python",
   "name": "python",
   "nbconvert_exporter": "python",
   "pygments_lexer": "ipython3",
   "version": "3.8.5"
  }
 },
 "nbformat": 4,
 "nbformat_minor": 4
}
