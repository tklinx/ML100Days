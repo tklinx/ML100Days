{
 "cells": [
  {
   "cell_type": "code",
   "execution_count": 319,
   "metadata": {},
   "outputs": [],
   "source": [
    "import numpy as np"
   ]
  },
  {
   "cell_type": "code",
   "execution_count": 320,
   "metadata": {},
   "outputs": [],
   "source": [
    "english_score = np.array([55,89,76,65,48,70])\n",
    "math_score = np.array([60,85,60,68,55,60])\n",
    "chinese_score = np.array([65,90,82,72,66,77])"
   ]
  },
  {
   "cell_type": "code",
   "execution_count": 321,
   "metadata": {},
   "outputs": [],
   "source": [
    "#(1) English score > Math score\n",
    "np1 = np.greater(english_score, math_score)"
   ]
  },
  {
   "cell_type": "code",
   "execution_count": 322,
   "metadata": {},
   "outputs": [
    {
     "name": "stdout",
     "output_type": "stream",
     "text": [
      "There are 3 people whose English score is better than Math score.\n"
     ]
    }
   ],
   "source": [
    "#np.where(np1 == True)\n",
    "print('There are', np.sum(np1 == True), 'people whose English score is better than Math score.')"
   ]
  },
  {
   "cell_type": "code",
   "execution_count": 323,
   "metadata": {},
   "outputs": [
    {
     "name": "stdout",
     "output_type": "stream",
     "text": [
      "全班同學的最高分都是國文\n"
     ]
    }
   ],
   "source": [
    "#(2)Check if Chinese score is the highest one\n",
    "np2 = np.greater(chinese_score, math_score)\n",
    "np3 = np.greater(chinese_score, english_score)\n",
    "if np.all(np2) == True and np.all(np3) == True:\n",
    "    print('全班同學的最高分都是國文')\n",
    "else:\n",
    "    print('國文不是每個人的最高分')"
   ]
  }
 ],
 "metadata": {
  "kernelspec": {
   "display_name": "Python 3",
   "language": "python",
   "name": "python3"
  },
  "language_info": {
   "codemirror_mode": {
    "name": "ipython",
    "version": 3
   },
   "file_extension": ".py",
   "mimetype": "text/x-python",
   "name": "python",
   "nbconvert_exporter": "python",
   "pygments_lexer": "ipython3",
   "version": "3.8.5"
  }
 },
 "nbformat": 4,
 "nbformat_minor": 4
}
