{
 "cells": [
  {
   "cell_type": "code",
   "execution_count": 79,
   "metadata": {},
   "outputs": [],
   "source": [
    "import numpy as np"
   ]
  },
  {
   "cell_type": "code",
   "execution_count": 80,
   "metadata": {},
   "outputs": [
    {
     "name": "stdout",
     "output_type": "stream",
     "text": [
      "請輸入聲壓值: \n",
      "20000\n"
     ]
    }
   ],
   "source": [
    "#(1)\n",
    "V0 = 20 # 20 uPa\n",
    "\n",
    "print('請輸入聲壓值: ')\n",
    "\n",
    "V1 = input()"
   ]
  },
  {
   "cell_type": "code",
   "execution_count": 81,
   "metadata": {},
   "outputs": [],
   "source": [
    "X = int(V1)/int(V0) #不可以寫 int(V1/V0), 因為V0是int, 但V1是str, 兩者型態不同\n",
    "GdB = 20*np.log10(X)"
   ]
  },
  {
   "cell_type": "code",
   "execution_count": 82,
   "metadata": {},
   "outputs": [
    {
     "name": "stdout",
     "output_type": "stream",
     "text": [
      "音量分貝為:  60.0\n"
     ]
    }
   ],
   "source": [
    "print('音量分貝為: ', GdB)"
   ]
  },
  {
   "cell_type": "code",
   "execution_count": 83,
   "metadata": {},
   "outputs": [
    {
     "name": "stdout",
     "output_type": "stream",
     "text": [
      "30分貝的聲壓為50分貝聲壓的 0.09999999999999999 倍\n"
     ]
    }
   ],
   "source": [
    "#(2)\n",
    "\n",
    "V2 = 30\n",
    "V3 = 50\n",
    "print('30分貝的聲壓為50分貝聲壓的', (10**(V2/20))/(10**(V3/20)), '倍')"
   ]
  },
  {
   "cell_type": "code",
   "execution_count": null,
   "metadata": {},
   "outputs": [],
   "source": []
  }
 ],
 "metadata": {
  "kernelspec": {
   "display_name": "Python 3",
   "language": "python",
   "name": "python3"
  },
  "language_info": {
   "codemirror_mode": {
    "name": "ipython",
    "version": 3
   },
   "file_extension": ".py",
   "mimetype": "text/x-python",
   "name": "python",
   "nbconvert_exporter": "python",
   "pygments_lexer": "ipython3",
   "version": "3.8.5"
  }
 },
 "nbformat": 4,
 "nbformat_minor": 4
}
